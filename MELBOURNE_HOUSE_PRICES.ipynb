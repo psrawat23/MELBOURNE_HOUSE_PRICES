{
  "nbformat": 4,
  "nbformat_minor": 0,
  "metadata": {
    "colab": {
      "name": "Data_science_python.ipynb",
      "provenance": [],
      "collapsed_sections": [],
      "toc_visible": true
    },
    "kernelspec": {
      "name": "python3",
      "display_name": "Python 3"
    }
  },
  "cells": [
    {
      "cell_type": "markdown",
      "metadata": {
        "id": "JhL550fZX-0a"
      },
      "source": [
        "# Importing Libraries"
      ]
    },
    {
      "cell_type": "code",
      "metadata": {
        "id": "zV2COwSwYEKt"
      },
      "source": [
        "import pandas as pd\n",
        "import numpy as np\n",
        "import seaborn as s\n",
        "import matplotlib.pyplot as plt"
      ],
      "execution_count": 17,
      "outputs": []
    },
    {
      "cell_type": "markdown",
      "metadata": {
        "id": "mILik9W9hdFu"
      },
      "source": [
        "# Data Understanding"
      ]
    },
    {
      "cell_type": "markdown",
      "metadata": {
        "id": "qcoILxSjhlSe"
      },
      "source": [
        "1. Import Dataset"
      ]
    },
    {
      "cell_type": "code",
      "metadata": {
        "id": "67QeJGnihm5z"
      },
      "source": [
        "data=pd.read_csv(\"MELBOURNE_HOUSE_PRICES_LESS.csv\")"
      ],
      "execution_count": 18,
      "outputs": []
    },
    {
      "cell_type": "markdown",
      "metadata": {
        "id": "87Aj2WdXhpVA"
      },
      "source": [
        "2.\tView the dataset"
      ]
    },
    {
      "cell_type": "code",
      "metadata": {
        "colab": {
          "base_uri": "https://localhost:8080/",
          "height": 394
        },
        "id": "ukZVPuONYNzO",
        "outputId": "313855c2-b78a-4fce-fb87-50bc10aa5ab1"
      },
      "source": [
        "data.head()"
      ],
      "execution_count": 19,
      "outputs": [
        {
          "output_type": "execute_result",
          "data": {
            "text/html": [
              "<div>\n",
              "<style scoped>\n",
              "    .dataframe tbody tr th:only-of-type {\n",
              "        vertical-align: middle;\n",
              "    }\n",
              "\n",
              "    .dataframe tbody tr th {\n",
              "        vertical-align: top;\n",
              "    }\n",
              "\n",
              "    .dataframe thead th {\n",
              "        text-align: right;\n",
              "    }\n",
              "</style>\n",
              "<table border=\"1\" class=\"dataframe\">\n",
              "  <thead>\n",
              "    <tr style=\"text-align: right;\">\n",
              "      <th></th>\n",
              "      <th>Suburb</th>\n",
              "      <th>Address</th>\n",
              "      <th>Rooms</th>\n",
              "      <th>Type</th>\n",
              "      <th>Price</th>\n",
              "      <th>Method</th>\n",
              "      <th>SellerG</th>\n",
              "      <th>Date</th>\n",
              "      <th>Postcode</th>\n",
              "      <th>Regionname</th>\n",
              "      <th>Propertycount</th>\n",
              "      <th>Distance</th>\n",
              "      <th>CouncilArea</th>\n",
              "    </tr>\n",
              "  </thead>\n",
              "  <tbody>\n",
              "    <tr>\n",
              "      <th>0</th>\n",
              "      <td>Abbotsford</td>\n",
              "      <td>49 Lithgow St</td>\n",
              "      <td>3</td>\n",
              "      <td>h</td>\n",
              "      <td>1490000.0</td>\n",
              "      <td>S</td>\n",
              "      <td>Jellis</td>\n",
              "      <td>01-04-2017</td>\n",
              "      <td>3067</td>\n",
              "      <td>Northern Metropolitan</td>\n",
              "      <td>4019</td>\n",
              "      <td>3.0</td>\n",
              "      <td>Yarra City Council</td>\n",
              "    </tr>\n",
              "    <tr>\n",
              "      <th>1</th>\n",
              "      <td>Abbotsford</td>\n",
              "      <td>59A Turner St</td>\n",
              "      <td>3</td>\n",
              "      <td>h</td>\n",
              "      <td>1220000.0</td>\n",
              "      <td>S</td>\n",
              "      <td>Marshall</td>\n",
              "      <td>01-04-2017</td>\n",
              "      <td>3067</td>\n",
              "      <td>Northern Metropolitan</td>\n",
              "      <td>4019</td>\n",
              "      <td>3.0</td>\n",
              "      <td>Yarra City Council</td>\n",
              "    </tr>\n",
              "    <tr>\n",
              "      <th>2</th>\n",
              "      <td>Abbotsford</td>\n",
              "      <td>119B Yarra St</td>\n",
              "      <td>3</td>\n",
              "      <td>h</td>\n",
              "      <td>1420000.0</td>\n",
              "      <td>S</td>\n",
              "      <td>Nelson</td>\n",
              "      <td>01-04-2017</td>\n",
              "      <td>3067</td>\n",
              "      <td>Northern Metropolitan</td>\n",
              "      <td>4019</td>\n",
              "      <td>3.0</td>\n",
              "      <td>Yarra City Council</td>\n",
              "    </tr>\n",
              "    <tr>\n",
              "      <th>3</th>\n",
              "      <td>Aberfeldie</td>\n",
              "      <td>68 Vida St</td>\n",
              "      <td>3</td>\n",
              "      <td>h</td>\n",
              "      <td>1515000.0</td>\n",
              "      <td>S</td>\n",
              "      <td>Barry</td>\n",
              "      <td>01-04-2017</td>\n",
              "      <td>3040</td>\n",
              "      <td>Western Metropolitan</td>\n",
              "      <td>1543</td>\n",
              "      <td>7.5</td>\n",
              "      <td>Moonee Valley City Council</td>\n",
              "    </tr>\n",
              "    <tr>\n",
              "      <th>4</th>\n",
              "      <td>Airport West</td>\n",
              "      <td>92 Clydesdale Rd</td>\n",
              "      <td>2</td>\n",
              "      <td>h</td>\n",
              "      <td>670000.0</td>\n",
              "      <td>S</td>\n",
              "      <td>Nelson</td>\n",
              "      <td>01-04-2017</td>\n",
              "      <td>3042</td>\n",
              "      <td>Western Metropolitan</td>\n",
              "      <td>3464</td>\n",
              "      <td>10.4</td>\n",
              "      <td>Moonee Valley City Council</td>\n",
              "    </tr>\n",
              "  </tbody>\n",
              "</table>\n",
              "</div>"
            ],
            "text/plain": [
              "         Suburb           Address  ...  Distance                 CouncilArea\n",
              "0    Abbotsford     49 Lithgow St  ...       3.0          Yarra City Council\n",
              "1    Abbotsford     59A Turner St  ...       3.0          Yarra City Council\n",
              "2    Abbotsford     119B Yarra St  ...       3.0          Yarra City Council\n",
              "3    Aberfeldie        68 Vida St  ...       7.5  Moonee Valley City Council\n",
              "4  Airport West  92 Clydesdale Rd  ...      10.4  Moonee Valley City Council\n",
              "\n",
              "[5 rows x 13 columns]"
            ]
          },
          "metadata": {
            "tags": []
          },
          "execution_count": 19
        }
      ]
    },
    {
      "cell_type": "code",
      "metadata": {
        "colab": {
          "base_uri": "https://localhost:8080/"
        },
        "id": "hRhDa9oTg9hl",
        "outputId": "3f571547-e339-4f13-ec22-58fe607fbc4a"
      },
      "source": [
        "data.shape"
      ],
      "execution_count": 20,
      "outputs": [
        {
          "output_type": "execute_result",
          "data": {
            "text/plain": [
              "(63023, 13)"
            ]
          },
          "metadata": {
            "tags": []
          },
          "execution_count": 20
        }
      ]
    },
    {
      "cell_type": "code",
      "metadata": {
        "colab": {
          "base_uri": "https://localhost:8080/"
        },
        "id": "9LPcwoCGhBWj",
        "outputId": "0f3c92bd-96c8-4422-de1a-c17705f4f4c9"
      },
      "source": [
        "data.info()"
      ],
      "execution_count": 21,
      "outputs": [
        {
          "output_type": "stream",
          "text": [
            "<class 'pandas.core.frame.DataFrame'>\n",
            "RangeIndex: 63023 entries, 0 to 63022\n",
            "Data columns (total 13 columns):\n",
            " #   Column         Non-Null Count  Dtype  \n",
            "---  ------         --------------  -----  \n",
            " 0   Suburb         63023 non-null  object \n",
            " 1   Address        63023 non-null  object \n",
            " 2   Rooms          63023 non-null  int64  \n",
            " 3   Type           63023 non-null  object \n",
            " 4   Price          48433 non-null  float64\n",
            " 5   Method         63023 non-null  object \n",
            " 6   SellerG        63023 non-null  object \n",
            " 7   Date           63023 non-null  object \n",
            " 8   Postcode       63023 non-null  int64  \n",
            " 9   Regionname     63023 non-null  object \n",
            " 10  Propertycount  63023 non-null  int64  \n",
            " 11  Distance       63023 non-null  float64\n",
            " 12  CouncilArea    63023 non-null  object \n",
            "dtypes: float64(2), int64(3), object(8)\n",
            "memory usage: 6.3+ MB\n"
          ],
          "name": "stdout"
        }
      ]
    },
    {
      "cell_type": "code",
      "metadata": {
        "colab": {
          "base_uri": "https://localhost:8080/",
          "height": 297
        },
        "id": "p4zO0piUkJq9",
        "outputId": "5134abe3-0250-43fd-9f40-2a89e217d23a"
      },
      "source": [
        "data.describe()"
      ],
      "execution_count": 22,
      "outputs": [
        {
          "output_type": "execute_result",
          "data": {
            "text/html": [
              "<div>\n",
              "<style scoped>\n",
              "    .dataframe tbody tr th:only-of-type {\n",
              "        vertical-align: middle;\n",
              "    }\n",
              "\n",
              "    .dataframe tbody tr th {\n",
              "        vertical-align: top;\n",
              "    }\n",
              "\n",
              "    .dataframe thead th {\n",
              "        text-align: right;\n",
              "    }\n",
              "</style>\n",
              "<table border=\"1\" class=\"dataframe\">\n",
              "  <thead>\n",
              "    <tr style=\"text-align: right;\">\n",
              "      <th></th>\n",
              "      <th>Rooms</th>\n",
              "      <th>Price</th>\n",
              "      <th>Postcode</th>\n",
              "      <th>Propertycount</th>\n",
              "      <th>Distance</th>\n",
              "    </tr>\n",
              "  </thead>\n",
              "  <tbody>\n",
              "    <tr>\n",
              "      <th>count</th>\n",
              "      <td>63023.000000</td>\n",
              "      <td>4.843300e+04</td>\n",
              "      <td>63023.000000</td>\n",
              "      <td>63023.000000</td>\n",
              "      <td>63023.000000</td>\n",
              "    </tr>\n",
              "    <tr>\n",
              "      <th>mean</th>\n",
              "      <td>3.110595</td>\n",
              "      <td>9.978982e+05</td>\n",
              "      <td>3125.673897</td>\n",
              "      <td>7617.728131</td>\n",
              "      <td>12.684829</td>\n",
              "    </tr>\n",
              "    <tr>\n",
              "      <th>std</th>\n",
              "      <td>0.957551</td>\n",
              "      <td>5.934989e+05</td>\n",
              "      <td>125.626877</td>\n",
              "      <td>4424.423167</td>\n",
              "      <td>7.592015</td>\n",
              "    </tr>\n",
              "    <tr>\n",
              "      <th>min</th>\n",
              "      <td>1.000000</td>\n",
              "      <td>8.500000e+04</td>\n",
              "      <td>3000.000000</td>\n",
              "      <td>39.000000</td>\n",
              "      <td>0.000000</td>\n",
              "    </tr>\n",
              "    <tr>\n",
              "      <th>25%</th>\n",
              "      <td>3.000000</td>\n",
              "      <td>6.200000e+05</td>\n",
              "      <td>3056.000000</td>\n",
              "      <td>4380.000000</td>\n",
              "      <td>7.000000</td>\n",
              "    </tr>\n",
              "    <tr>\n",
              "      <th>50%</th>\n",
              "      <td>3.000000</td>\n",
              "      <td>8.300000e+05</td>\n",
              "      <td>3107.000000</td>\n",
              "      <td>6795.000000</td>\n",
              "      <td>11.400000</td>\n",
              "    </tr>\n",
              "    <tr>\n",
              "      <th>75%</th>\n",
              "      <td>4.000000</td>\n",
              "      <td>1.220000e+06</td>\n",
              "      <td>3163.000000</td>\n",
              "      <td>10412.000000</td>\n",
              "      <td>16.700000</td>\n",
              "    </tr>\n",
              "    <tr>\n",
              "      <th>max</th>\n",
              "      <td>31.000000</td>\n",
              "      <td>1.120000e+07</td>\n",
              "      <td>3980.000000</td>\n",
              "      <td>21650.000000</td>\n",
              "      <td>64.100000</td>\n",
              "    </tr>\n",
              "  </tbody>\n",
              "</table>\n",
              "</div>"
            ],
            "text/plain": [
              "              Rooms         Price      Postcode  Propertycount      Distance\n",
              "count  63023.000000  4.843300e+04  63023.000000   63023.000000  63023.000000\n",
              "mean       3.110595  9.978982e+05   3125.673897    7617.728131     12.684829\n",
              "std        0.957551  5.934989e+05    125.626877    4424.423167      7.592015\n",
              "min        1.000000  8.500000e+04   3000.000000      39.000000      0.000000\n",
              "25%        3.000000  6.200000e+05   3056.000000    4380.000000      7.000000\n",
              "50%        3.000000  8.300000e+05   3107.000000    6795.000000     11.400000\n",
              "75%        4.000000  1.220000e+06   3163.000000   10412.000000     16.700000\n",
              "max       31.000000  1.120000e+07   3980.000000   21650.000000     64.100000"
            ]
          },
          "metadata": {
            "tags": []
          },
          "execution_count": 22
        }
      ]
    },
    {
      "cell_type": "markdown",
      "metadata": {
        "id": "NEKE6bNHhwpe"
      },
      "source": [
        "3.\tSee the structure and the summary of the dataset"
      ]
    },
    {
      "cell_type": "code",
      "metadata": {
        "colab": {
          "base_uri": "https://localhost:8080/"
        },
        "id": "hYpfQLjfb3Ns",
        "outputId": "c32c29ce-f4c1-488c-b64f-4b0d5f643a82"
      },
      "source": [
        "#Showing the Categorical values for Regionname column\n",
        "data[\"Regionname\"].unique()"
      ],
      "execution_count": 23,
      "outputs": [
        {
          "output_type": "execute_result",
          "data": {
            "text/plain": [
              "array(['Northern Metropolitan', 'Western Metropolitan',\n",
              "       'Southern Metropolitan', 'South-Eastern Metropolitan',\n",
              "       'Eastern Metropolitan', 'Northern Victoria', 'Western Victoria',\n",
              "       'Eastern Victoria'], dtype=object)"
            ]
          },
          "metadata": {
            "tags": []
          },
          "execution_count": 23
        }
      ]
    },
    {
      "cell_type": "code",
      "metadata": {
        "colab": {
          "base_uri": "https://localhost:8080/"
        },
        "id": "pr9Tm8tElqRL",
        "outputId": "c1edeef3-f6b0-4cae-b5c7-deeb4ea2b685"
      },
      "source": [
        "#CouncilArea column value\n",
        "data[\"CouncilArea\"].unique()"
      ],
      "execution_count": 24,
      "outputs": [
        {
          "output_type": "execute_result",
          "data": {
            "text/plain": [
              "array(['Yarra City Council', 'Moonee Valley City Council',\n",
              "       'Brimbank City Council', 'Port Phillip City Council',\n",
              "       'Darebin City Council', 'Hobsons Bay City Council',\n",
              "       'Stonnington City Council', 'Boroondara City Council',\n",
              "       'Monash City Council', 'Kingston City Council',\n",
              "       'Hume City Council', 'Maroondah City Council',\n",
              "       'Bayside City Council', 'Banyule City Council',\n",
              "       'Glen Eira City Council', 'Whitehorse City Council',\n",
              "       'Knox City Council', 'Maribyrnong City Council',\n",
              "       'Moreland City Council', 'Manningham City Council',\n",
              "       'Melbourne City Council', 'Melton City Council',\n",
              "       'Frankston City Council', 'Macedon Ranges Shire Council',\n",
              "       'Casey City Council', 'Greater Dandenong City Council',\n",
              "       'Moorabool Shire Council', 'Nillumbik Shire Council',\n",
              "       'Whittlesea City Council', 'Wyndham City Council',\n",
              "       'Yarra Ranges Shire Council', 'Cardinia Shire Council',\n",
              "       'Mitchell Shire Council', 'Murrindindi Shire Council'],\n",
              "      dtype=object)"
            ]
          },
          "metadata": {
            "tags": []
          },
          "execution_count": 24
        }
      ]
    },
    {
      "cell_type": "code",
      "metadata": {
        "colab": {
          "base_uri": "https://localhost:8080/",
          "height": 333
        },
        "id": "-ZLQJ0EAYMHM",
        "outputId": "09ea8267-601b-4d7d-849f-fe9acb6f5319"
      },
      "source": [
        "#Count of records by Rooms Number\n",
        "s.countplot(data[\"Rooms\"])\n",
        "plt.show()"
      ],
      "execution_count": 25,
      "outputs": [
        {
          "output_type": "stream",
          "text": [
            "/usr/local/lib/python3.7/dist-packages/seaborn/_decorators.py:43: FutureWarning: Pass the following variable as a keyword arg: x. From version 0.12, the only valid positional argument will be `data`, and passing other arguments without an explicit keyword will result in an error or misinterpretation.\n",
            "  FutureWarning\n"
          ],
          "name": "stderr"
        },
        {
          "output_type": "display_data",
          "data": {
            "image/png": "[encoded data removed]",
            "text/plain": [
              "<Figure size 432x288 with 1 Axes>"
            ]
          },
          "metadata": {
            "tags": [],
            "needs_background": "light"
          }
        }
      ]
    },
    {
      "cell_type": "code",
      "metadata": {
        "colab": {
          "base_uri": "https://localhost:8080/",
          "height": 333
        },
        "id": "aJQMin_pYMeq",
        "outputId": "c060ef60-a1b2-4dd8-ab7c-ebb07abe7160"
      },
      "source": [
        "#Count of records Method wise\n",
        "s.countplot(data[\"Method\"])\n",
        "plt.show()"
      ],
      "execution_count": 26,
      "outputs": [
        {
          "output_type": "stream",
          "text": [
            "/usr/local/lib/python3.7/dist-packages/seaborn/_decorators.py:43: FutureWarning: Pass the following variable as a keyword arg: x. From version 0.12, the only valid positional argument will be `data`, and passing other arguments without an explicit keyword will result in an error or misinterpretation.\n",
            "  FutureWarning\n"
          ],
          "name": "stderr"
        },
        {
          "output_type": "display_data",
          "data": {
            "image/png": "[encoded data removed]",
            "text/plain": [
              "<Figure size 432x288 with 1 Axes>"
            ]
          },
          "metadata": {
            "tags": [],
            "needs_background": "light"
          }
        }
      ]
    },
    {
      "cell_type": "code",
      "metadata": {
        "colab": {
          "base_uri": "https://localhost:8080/",
          "height": 333
        },
        "id": "v9_YoOE3ijb3",
        "outputId": "9449cb42-4f98-4a02-86ea-8677762f6eb9"
      },
      "source": [
        "#Count of Records Year wise\n",
        "date=pd.DatetimeIndex(data[\"Date\"]).year\n",
        "s.countplot(date)\n",
        "plt.show()"
      ],
      "execution_count": 27,
      "outputs": [
        {
          "output_type": "stream",
          "text": [
            "/usr/local/lib/python3.7/dist-packages/seaborn/_decorators.py:43: FutureWarning: Pass the following variable as a keyword arg: x. From version 0.12, the only valid positional argument will be `data`, and passing other arguments without an explicit keyword will result in an error or misinterpretation.\n",
            "  FutureWarning\n"
          ],
          "name": "stderr"
        },
        {
          "output_type": "display_data",
          "data": {
            "image/png": "[encoded data removed]",
            "text/plain": [
              "<Figure size 432x288 with 1 Axes>"
            ]
          },
          "metadata": {
            "tags": [],
            "needs_background": "light"
          }
        }
      ]
    },
    {
      "cell_type": "code",
      "metadata": {
        "colab": {
          "base_uri": "https://localhost:8080/",
          "height": 279
        },
        "id": "iw9FFhl9jhSx",
        "outputId": "448156c1-8f78-4cf0-ce44-b76c37471a8c"
      },
      "source": [
        "#countplot To count Types of Room \n",
        "s.countplot(x=\"Rooms\",hue=\"Type\",data=data)\n",
        "plt.show()"
      ],
      "execution_count": 28,
      "outputs": [
        {
          "output_type": "display_data",
          "data": {
            "image/png": "[encoded data removed]",
            "text/plain": [
              "<Figure size 432x288 with 1 Axes>"
            ]
          },
          "metadata": {
            "tags": [],
            "needs_background": "light"
          }
        }
      ]
    },
    {
      "cell_type": "code",
      "metadata": {
        "colab": {
          "base_uri": "https://localhost:8080/",
          "height": 279
        },
        "id": "lvlo4E1ol24A",
        "outputId": "25c0f4f3-4af4-4240-ce75-a08d3c29bafe"
      },
      "source": [
        "#Region Wise count of houses\n",
        "s.countplot(y=\"Regionname\",data=data)\n",
        "plt.show()"
      ],
      "execution_count": 29,
      "outputs": [
        {
          "output_type": "display_data",
          "data": {
            "image/png": "[encoded data removed]",
            "text/plain": [
              "<Figure size 432x288 with 1 Axes>"
            ]
          },
          "metadata": {
            "tags": [],
            "needs_background": "light"
          }
        }
      ]
    },
    {
      "cell_type": "code",
      "metadata": {
        "colab": {
          "base_uri": "https://localhost:8080/"
        },
        "id": "Nl99HstbmgBb",
        "outputId": "abe3afb3-6b5a-48ca-c411-58e17dedf07c"
      },
      "source": [
        "#Grouping CoucilArea by Regionname\n",
        "print(data.groupby([\"Regionname\"])[\"CouncilArea\"].sum())"
      ],
      "execution_count": 30,
      "outputs": [
        {
          "output_type": "stream",
          "text": [
            "Regionname\n",
            "Eastern Metropolitan          Maroondah City CouncilBanyule City CouncilWhit...\n",
            "Eastern Victoria              Frankston City CouncilYarra Ranges Shire Counc...\n",
            "Northern Metropolitan         Yarra City CouncilYarra City CouncilYarra City...\n",
            "Northern Victoria             Macedon Ranges Shire CouncilNillumbik Shire Co...\n",
            "South-Eastern Metropolitan    Kingston City CouncilKingston City CouncilKing...\n",
            "Southern Metropolitan         Port Phillip City CouncilStonnington City Coun...\n",
            "Western Metropolitan          Moonee Valley City CouncilMoonee Valley City C...\n",
            "Western Victoria              Moorabool Shire CouncilMelton City CouncilMelt...\n",
            "Name: CouncilArea, dtype: object\n"
          ],
          "name": "stdout"
        }
      ]
    },
    {
      "cell_type": "code",
      "metadata": {
        "id": "KDmutwHzqMe3"
      },
      "source": [
        "#Checking CouncilArea count by \"Southern Metropolitan\" Regionname\n",
        "South=data.Regionname==\"Southern Metropolitan\""
      ],
      "execution_count": 31,
      "outputs": []
    },
    {
      "cell_type": "code",
      "metadata": {
        "colab": {
          "base_uri": "https://localhost:8080/",
          "height": 279
        },
        "id": "GUEevQBxmjU1",
        "outputId": "c92080fb-2bd0-484b-ab56-718b8735e819"
      },
      "source": [
        "#Graphical repersentation of Council Area of Southern Metropolitan Region\n",
        "s.countplot(x=\"CouncilArea\",data=data[South])\n",
        "plt.show()"
      ],
      "execution_count": 32,
      "outputs": [
        {
          "output_type": "display_data",
          "data": {
            "image/png": "[encoded data removed]",
            "text/plain": [
              "<Figure size 432x288 with 1 Axes>"
            ]
          },
          "metadata": {
            "tags": [],
            "needs_background": "light"
          }
        }
      ]
    },
    {
      "cell_type": "markdown",
      "metadata": {
        "id": "qFbnrHGMEZQ6"
      },
      "source": [
        "a.) Numeric attributes:"
      ]
    },
    {
      "cell_type": "code",
      "metadata": {
        "colab": {
          "base_uri": "https://localhost:8080/"
        },
        "id": "gtG9_5KvDK9A",
        "outputId": "039520a1-8582-42f1-d653-3f2bd6137b21"
      },
      "source": [
        "#Selecting Numerical data\n",
        "print(data.select_dtypes(include=np.number))"
      ],
      "execution_count": 33,
      "outputs": [
        {
          "output_type": "stream",
          "text": [
            "       Rooms      Price  Postcode  Propertycount  Distance\n",
            "0          3  1490000.0      3067           4019       3.0\n",
            "1          3  1220000.0      3067           4019       3.0\n",
            "2          3  1420000.0      3067           4019       3.0\n",
            "3          3  1515000.0      3040           1543       7.5\n",
            "4          2   670000.0      3042           3464      10.4\n",
            "...      ...        ...       ...            ...       ...\n",
            "63018      3   566000.0      3064           5833      20.6\n",
            "63019      3   500000.0      3064           5833      20.6\n",
            "63020      3   545000.0      3064           5833      20.6\n",
            "63021      3        NaN      3074           7955      15.3\n",
            "63022      4        NaN      3027           1999      17.6\n",
            "\n",
            "[63023 rows x 5 columns]\n"
          ],
          "name": "stdout"
        }
      ]
    },
    {
      "cell_type": "markdown",
      "metadata": {
        "id": "hpxgcsBIGzX3"
      },
      "source": [
        " b.) Categorical attributes:"
      ]
    },
    {
      "cell_type": "code",
      "metadata": {
        "colab": {
          "base_uri": "https://localhost:8080/",
          "height": 419
        },
        "id": "sCjKzcG4GvJw",
        "outputId": "ea761e00-a530-4573-a2b1-295f56159dc9"
      },
      "source": [
        "#Selecting Categorical Data\n",
        "data[[\"Suburb\",\"Type\",\"Method\",\"SellerG\",\"Regionname\",\"CouncilArea\"]]"
      ],
      "execution_count": 34,
      "outputs": [
        {
          "output_type": "execute_result",
          "data": {
            "text/html": [
              "<div>\n",
              "<style scoped>\n",
              "    .dataframe tbody tr th:only-of-type {\n",
              "        vertical-align: middle;\n",
              "    }\n",
              "\n",
              "    .dataframe tbody tr th {\n",
              "        vertical-align: top;\n",
              "    }\n",
              "\n",
              "    .dataframe thead th {\n",
              "        text-align: right;\n",
              "    }\n",
              "</style>\n",
              "<table border=\"1\" class=\"dataframe\">\n",
              "  <thead>\n",
              "    <tr style=\"text-align: right;\">\n",
              "      <th></th>\n",
              "      <th>Suburb</th>\n",
              "      <th>Type</th>\n",
              "      <th>Method</th>\n",
              "      <th>SellerG</th>\n",
              "      <th>Regionname</th>\n",
              "      <th>CouncilArea</th>\n",
              "    </tr>\n",
              "  </thead>\n",
              "  <tbody>\n",
              "    <tr>\n",
              "      <th>0</th>\n",
              "      <td>Abbotsford</td>\n",
              "      <td>h</td>\n",
              "      <td>S</td>\n",
              "      <td>Jellis</td>\n",
              "      <td>Northern Metropolitan</td>\n",
              "      <td>Yarra City Council</td>\n",
              "    </tr>\n",
              "    <tr>\n",
              "      <th>1</th>\n",
              "      <td>Abbotsford</td>\n",
              "      <td>h</td>\n",
              "      <td>S</td>\n",
              "      <td>Marshall</td>\n",
              "      <td>Northern Metropolitan</td>\n",
              "      <td>Yarra City Council</td>\n",
              "    </tr>\n",
              "    <tr>\n",
              "      <th>2</th>\n",
              "      <td>Abbotsford</td>\n",
              "      <td>h</td>\n",
              "      <td>S</td>\n",
              "      <td>Nelson</td>\n",
              "      <td>Northern Metropolitan</td>\n",
              "      <td>Yarra City Council</td>\n",
              "    </tr>\n",
              "    <tr>\n",
              "      <th>3</th>\n",
              "      <td>Aberfeldie</td>\n",
              "      <td>h</td>\n",
              "      <td>S</td>\n",
              "      <td>Barry</td>\n",
              "      <td>Western Metropolitan</td>\n",
              "      <td>Moonee Valley City Council</td>\n",
              "    </tr>\n",
              "    <tr>\n",
              "      <th>4</th>\n",
              "      <td>Airport West</td>\n",
              "      <td>h</td>\n",
              "      <td>S</td>\n",
              "      <td>Nelson</td>\n",
              "      <td>Western Metropolitan</td>\n",
              "      <td>Moonee Valley City Council</td>\n",
              "    </tr>\n",
              "    <tr>\n",
              "      <th>...</th>\n",
              "      <td>...</td>\n",
              "      <td>...</td>\n",
              "      <td>...</td>\n",
              "      <td>...</td>\n",
              "      <td>...</td>\n",
              "      <td>...</td>\n",
              "    </tr>\n",
              "    <tr>\n",
              "      <th>63018</th>\n",
              "      <td>Roxburgh Park</td>\n",
              "      <td>h</td>\n",
              "      <td>S</td>\n",
              "      <td>Raine</td>\n",
              "      <td>Northern Metropolitan</td>\n",
              "      <td>Hume City Council</td>\n",
              "    </tr>\n",
              "    <tr>\n",
              "      <th>63019</th>\n",
              "      <td>Roxburgh Park</td>\n",
              "      <td>h</td>\n",
              "      <td>S</td>\n",
              "      <td>Raine</td>\n",
              "      <td>Northern Metropolitan</td>\n",
              "      <td>Hume City Council</td>\n",
              "    </tr>\n",
              "    <tr>\n",
              "      <th>63020</th>\n",
              "      <td>Roxburgh Park</td>\n",
              "      <td>h</td>\n",
              "      <td>S</td>\n",
              "      <td>Raine</td>\n",
              "      <td>Northern Metropolitan</td>\n",
              "      <td>Hume City Council</td>\n",
              "    </tr>\n",
              "    <tr>\n",
              "      <th>63021</th>\n",
              "      <td>Thomastown</td>\n",
              "      <td>u</td>\n",
              "      <td>PI</td>\n",
              "      <td>Barry</td>\n",
              "      <td>Northern Metropolitan</td>\n",
              "      <td>Whittlesea City Council</td>\n",
              "    </tr>\n",
              "    <tr>\n",
              "      <th>63022</th>\n",
              "      <td>Williams Landing</td>\n",
              "      <td>h</td>\n",
              "      <td>SP</td>\n",
              "      <td>Aussie</td>\n",
              "      <td>Western Metropolitan</td>\n",
              "      <td>Wyndham City Council</td>\n",
              "    </tr>\n",
              "  </tbody>\n",
              "</table>\n",
              "<p>63023 rows × 6 columns</p>\n",
              "</div>"
            ],
            "text/plain": [
              "                 Suburb Type  ...             Regionname                 CouncilArea\n",
              "0            Abbotsford    h  ...  Northern Metropolitan          Yarra City Council\n",
              "1            Abbotsford    h  ...  Northern Metropolitan          Yarra City Council\n",
              "2            Abbotsford    h  ...  Northern Metropolitan          Yarra City Council\n",
              "3            Aberfeldie    h  ...   Western Metropolitan  Moonee Valley City Council\n",
              "4          Airport West    h  ...   Western Metropolitan  Moonee Valley City Council\n",
              "...                 ...  ...  ...                    ...                         ...\n",
              "63018     Roxburgh Park    h  ...  Northern Metropolitan           Hume City Council\n",
              "63019     Roxburgh Park    h  ...  Northern Metropolitan           Hume City Council\n",
              "63020     Roxburgh Park    h  ...  Northern Metropolitan           Hume City Council\n",
              "63021        Thomastown    u  ...  Northern Metropolitan     Whittlesea City Council\n",
              "63022  Williams Landing    h  ...   Western Metropolitan        Wyndham City Council\n",
              "\n",
              "[63023 rows x 6 columns]"
            ]
          },
          "metadata": {
            "tags": []
          },
          "execution_count": 34
        }
      ]
    },
    {
      "cell_type": "markdown",
      "metadata": {
        "id": "OTzfoqWJH8KB"
      },
      "source": [
        "#  Data Preparation : Data Cleaning"
      ]
    },
    {
      "cell_type": "code",
      "metadata": {
        "id": "Nx7nSgfcIA6y"
      },
      "source": [
        "#Selecting Duplicate Value \n",
        "x=data.duplicated(keep=\"first\")"
      ],
      "execution_count": 35,
      "outputs": []
    },
    {
      "cell_type": "code",
      "metadata": {
        "colab": {
          "base_uri": "https://localhost:8080/"
        },
        "id": "7qQQ-vWwIdVL",
        "outputId": "ce20cf61-1f2e-4838-a426-8110cd5b398b"
      },
      "source": [
        "print(data[x])"
      ],
      "execution_count": 36,
      "outputs": [
        {
          "output_type": "stream",
          "text": [
            "              Suburb         Address  ...  Distance              CouncilArea\n",
            "8042   Fitzroy North  5/16 Taplin St  ...       3.6    Moreland City Council\n",
            "33942     Nunawading   1/7 Lilian St  ...      15.4  Manningham City Council\n",
            "\n",
            "[2 rows x 13 columns]\n"
          ],
          "name": "stdout"
        }
      ]
    },
    {
      "cell_type": "code",
      "metadata": {
        "colab": {
          "base_uri": "https://localhost:8080/"
        },
        "id": "GCnUq5aDInNS",
        "outputId": "68f427e9-490d-4e72-cd46-64c9e9aeeacd"
      },
      "source": [
        "#length is 63023\n",
        "data.index"
      ],
      "execution_count": 37,
      "outputs": [
        {
          "output_type": "execute_result",
          "data": {
            "text/plain": [
              "RangeIndex(start=0, stop=63023, step=1)"
            ]
          },
          "metadata": {
            "tags": []
          },
          "execution_count": 37
        }
      ]
    },
    {
      "cell_type": "markdown",
      "metadata": {
        "id": "7R99CxqGJO_y"
      },
      "source": [
        "Droping Duplicate Rows"
      ]
    },
    {
      "cell_type": "code",
      "metadata": {
        "id": "kdNjsgHDJNaQ"
      },
      "source": [
        "data.drop_duplicates(keep=\"first\",inplace=True)"
      ],
      "execution_count": 38,
      "outputs": []
    },
    {
      "cell_type": "code",
      "metadata": {
        "colab": {
          "base_uri": "https://localhost:8080/"
        },
        "id": "N23Vh7pxJWoh",
        "outputId": "08d6ac84-af53-44be-d995-5160885ec0da"
      },
      "source": [
        "#length is 63021\n",
        "data.index"
      ],
      "execution_count": 39,
      "outputs": [
        {
          "output_type": "execute_result",
          "data": {
            "text/plain": [
              "Int64Index([    0,     1,     2,     3,     4,     5,     6,     7,     8,\n",
              "                9,\n",
              "            ...\n",
              "            63013, 63014, 63015, 63016, 63017, 63018, 63019, 63020, 63021,\n",
              "            63022],\n",
              "           dtype='int64', length=63021)"
            ]
          },
          "metadata": {
            "tags": []
          },
          "execution_count": 39
        }
      ]
    },
    {
      "cell_type": "markdown",
      "metadata": {
        "id": "mOgGfCZBJmhA"
      },
      "source": [
        "•\tVariable type: "
      ]
    },
    {
      "cell_type": "code",
      "metadata": {
        "colab": {
          "base_uri": "https://localhost:8080/"
        },
        "id": "Ktokd5aErmH0",
        "outputId": "6e2288dc-9061-4aa1-8e67-494ef30418b4"
      },
      "source": [
        "#type of attributes\n",
        "dict(data.dtypes)"
      ],
      "execution_count": 40,
      "outputs": [
        {
          "output_type": "execute_result",
          "data": {
            "text/plain": [
              "{'Address': dtype('O'),\n",
              " 'CouncilArea': dtype('O'),\n",
              " 'Date': dtype('O'),\n",
              " 'Distance': dtype('float64'),\n",
              " 'Method': dtype('O'),\n",
              " 'Postcode': dtype('int64'),\n",
              " 'Price': dtype('float64'),\n",
              " 'Propertycount': dtype('int64'),\n",
              " 'Regionname': dtype('O'),\n",
              " 'Rooms': dtype('int64'),\n",
              " 'SellerG': dtype('O'),\n",
              " 'Suburb': dtype('O'),\n",
              " 'Type': dtype('O')}"
            ]
          },
          "metadata": {
            "tags": []
          },
          "execution_count": 40
        }
      ]
    },
    {
      "cell_type": "code",
      "metadata": {
        "id": "8aEVI3bWY9Sy"
      },
      "source": [
        "#getting only year from Date attribute\n",
        "data[\"Date\"]=pd.DatetimeIndex(data[\"Date\"]).year"
      ],
      "execution_count": 41,
      "outputs": []
    },
    {
      "cell_type": "markdown",
      "metadata": {
        "id": "eq9m4BFgJ54E"
      },
      "source": [
        "•\tMissing value treatment"
      ]
    },
    {
      "cell_type": "code",
      "metadata": {
        "id": "AG6r1Jptg0bc",
        "colab": {
          "base_uri": "https://localhost:8080/"
        },
        "outputId": "ddf94dc1-c383-45d2-ff70-5cbf4372aa69"
      },
      "source": [
        "#checking NULL values\n",
        "data.isna().sum()"
      ],
      "execution_count": 42,
      "outputs": [
        {
          "output_type": "execute_result",
          "data": {
            "text/plain": [
              "Suburb               0\n",
              "Address              0\n",
              "Rooms                0\n",
              "Type                 0\n",
              "Price            14589\n",
              "Method               0\n",
              "SellerG              0\n",
              "Date                 0\n",
              "Postcode             0\n",
              "Regionname           0\n",
              "Propertycount        0\n",
              "Distance             0\n",
              "CouncilArea          0\n",
              "dtype: int64"
            ]
          },
          "metadata": {
            "tags": []
          },
          "execution_count": 42
        }
      ]
    },
    {
      "cell_type": "code",
      "metadata": {
        "id": "I3ffCoRspxxg"
      },
      "source": [
        "#dropping Null values\n",
        "data.dropna(axis=0,inplace=True)"
      ],
      "execution_count": 43,
      "outputs": []
    },
    {
      "cell_type": "code",
      "metadata": {
        "colab": {
          "base_uri": "https://localhost:8080/"
        },
        "id": "p4ecc74LhY4Z",
        "outputId": "70d5418d-176e-4416-ae5f-93881f53d1bd"
      },
      "source": [
        "data.shape"
      ],
      "execution_count": 44,
      "outputs": [
        {
          "output_type": "execute_result",
          "data": {
            "text/plain": [
              "(48432, 13)"
            ]
          },
          "metadata": {
            "tags": []
          },
          "execution_count": 44
        }
      ]
    },
    {
      "cell_type": "markdown",
      "metadata": {
        "id": "xlKLonI_J9UL"
      },
      "source": [
        "•\tOutlier Treatment: "
      ]
    },
    {
      "cell_type": "code",
      "metadata": {
        "id": "RkaKlO7OJ-hY"
      },
      "source": [
        "#Selecting only numerical data\n",
        "outlier=data.select_dtypes(include=np.number)"
      ],
      "execution_count": 45,
      "outputs": []
    },
    {
      "cell_type": "code",
      "metadata": {
        "colab": {
          "base_uri": "https://localhost:8080/",
          "height": 297
        },
        "id": "LIsChRQnwbyA",
        "outputId": "cb7a3462-1d04-4f43-d34b-0d648de79241"
      },
      "source": [
        "outlier.describe()"
      ],
      "execution_count": 46,
      "outputs": [
        {
          "output_type": "execute_result",
          "data": {
            "text/html": [
              "<div>\n",
              "<style scoped>\n",
              "    .dataframe tbody tr th:only-of-type {\n",
              "        vertical-align: middle;\n",
              "    }\n",
              "\n",
              "    .dataframe tbody tr th {\n",
              "        vertical-align: top;\n",
              "    }\n",
              "\n",
              "    .dataframe thead th {\n",
              "        text-align: right;\n",
              "    }\n",
              "</style>\n",
              "<table border=\"1\" class=\"dataframe\">\n",
              "  <thead>\n",
              "    <tr style=\"text-align: right;\">\n",
              "      <th></th>\n",
              "      <th>Rooms</th>\n",
              "      <th>Price</th>\n",
              "      <th>Date</th>\n",
              "      <th>Postcode</th>\n",
              "      <th>Propertycount</th>\n",
              "      <th>Distance</th>\n",
              "    </tr>\n",
              "  </thead>\n",
              "  <tbody>\n",
              "    <tr>\n",
              "      <th>count</th>\n",
              "      <td>48432.000000</td>\n",
              "      <td>4.843200e+04</td>\n",
              "      <td>48432.000000</td>\n",
              "      <td>48432.000000</td>\n",
              "      <td>48432.000000</td>\n",
              "      <td>48432.000000</td>\n",
              "    </tr>\n",
              "    <tr>\n",
              "      <th>mean</th>\n",
              "      <td>3.071688</td>\n",
              "      <td>9.978980e+05</td>\n",
              "      <td>2017.041006</td>\n",
              "      <td>3123.211472</td>\n",
              "      <td>7566.427218</td>\n",
              "      <td>12.702948</td>\n",
              "    </tr>\n",
              "    <tr>\n",
              "      <th>std</th>\n",
              "      <td>0.944705</td>\n",
              "      <td>5.935050e+05</td>\n",
              "      <td>0.761368</td>\n",
              "      <td>125.535986</td>\n",
              "      <td>4457.447851</td>\n",
              "      <td>7.549995</td>\n",
              "    </tr>\n",
              "    <tr>\n",
              "      <th>min</th>\n",
              "      <td>1.000000</td>\n",
              "      <td>8.500000e+04</td>\n",
              "      <td>2016.000000</td>\n",
              "      <td>3000.000000</td>\n",
              "      <td>39.000000</td>\n",
              "      <td>0.000000</td>\n",
              "    </tr>\n",
              "    <tr>\n",
              "      <th>25%</th>\n",
              "      <td>2.000000</td>\n",
              "      <td>6.200000e+05</td>\n",
              "      <td>2016.000000</td>\n",
              "      <td>3051.000000</td>\n",
              "      <td>4280.000000</td>\n",
              "      <td>7.000000</td>\n",
              "    </tr>\n",
              "    <tr>\n",
              "      <th>50%</th>\n",
              "      <td>3.000000</td>\n",
              "      <td>8.300000e+05</td>\n",
              "      <td>2017.000000</td>\n",
              "      <td>3103.000000</td>\n",
              "      <td>6567.000000</td>\n",
              "      <td>11.700000</td>\n",
              "    </tr>\n",
              "    <tr>\n",
              "      <th>75%</th>\n",
              "      <td>4.000000</td>\n",
              "      <td>1.220000e+06</td>\n",
              "      <td>2018.000000</td>\n",
              "      <td>3163.000000</td>\n",
              "      <td>10412.000000</td>\n",
              "      <td>16.700000</td>\n",
              "    </tr>\n",
              "    <tr>\n",
              "      <th>max</th>\n",
              "      <td>31.000000</td>\n",
              "      <td>1.120000e+07</td>\n",
              "      <td>2018.000000</td>\n",
              "      <td>3980.000000</td>\n",
              "      <td>21650.000000</td>\n",
              "      <td>55.800000</td>\n",
              "    </tr>\n",
              "  </tbody>\n",
              "</table>\n",
              "</div>"
            ],
            "text/plain": [
              "              Rooms         Price  ...  Propertycount      Distance\n",
              "count  48432.000000  4.843200e+04  ...   48432.000000  48432.000000\n",
              "mean       3.071688  9.978980e+05  ...    7566.427218     12.702948\n",
              "std        0.944705  5.935050e+05  ...    4457.447851      7.549995\n",
              "min        1.000000  8.500000e+04  ...      39.000000      0.000000\n",
              "25%        2.000000  6.200000e+05  ...    4280.000000      7.000000\n",
              "50%        3.000000  8.300000e+05  ...    6567.000000     11.700000\n",
              "75%        4.000000  1.220000e+06  ...   10412.000000     16.700000\n",
              "max       31.000000  1.120000e+07  ...   21650.000000     55.800000\n",
              "\n",
              "[8 rows x 6 columns]"
            ]
          },
          "metadata": {
            "tags": []
          },
          "execution_count": 46
        }
      ]
    },
    {
      "cell_type": "code",
      "metadata": {
        "id": "nrCjlTDns-SY",
        "colab": {
          "base_uri": "https://localhost:8080/"
        },
        "outputId": "2ba7a85c-8c27-47a6-9487-c538971d84eb"
      },
      "source": [
        "#Setting up min max percentile \n",
        "min,max=outlier.Rooms.quantile([0.001,0.992])\n",
        "min,max"
      ],
      "execution_count": 47,
      "outputs": [
        {
          "output_type": "execute_result",
          "data": {
            "text/plain": [
              "(1.0, 5.0)"
            ]
          },
          "metadata": {
            "tags": []
          },
          "execution_count": 47
        }
      ]
    },
    {
      "cell_type": "code",
      "metadata": {
        "colab": {
          "base_uri": "https://localhost:8080/",
          "height": 419
        },
        "id": "nxplMrKf0Msa",
        "outputId": "6f09d75a-3768-40ed-ade4-2779d03bf947"
      },
      "source": [
        "#Values greater than MAX Percentile\n",
        "outlier[outlier[\"Rooms\"]>max]"
      ],
      "execution_count": 48,
      "outputs": [
        {
          "output_type": "execute_result",
          "data": {
            "text/html": [
              "<div>\n",
              "<style scoped>\n",
              "    .dataframe tbody tr th:only-of-type {\n",
              "        vertical-align: middle;\n",
              "    }\n",
              "\n",
              "    .dataframe tbody tr th {\n",
              "        vertical-align: top;\n",
              "    }\n",
              "\n",
              "    .dataframe thead th {\n",
              "        text-align: right;\n",
              "    }\n",
              "</style>\n",
              "<table border=\"1\" class=\"dataframe\">\n",
              "  <thead>\n",
              "    <tr style=\"text-align: right;\">\n",
              "      <th></th>\n",
              "      <th>Rooms</th>\n",
              "      <th>Price</th>\n",
              "      <th>Date</th>\n",
              "      <th>Postcode</th>\n",
              "      <th>Propertycount</th>\n",
              "      <th>Distance</th>\n",
              "    </tr>\n",
              "  </thead>\n",
              "  <tbody>\n",
              "    <tr>\n",
              "      <th>150</th>\n",
              "      <td>7</td>\n",
              "      <td>4000000.0</td>\n",
              "      <td>2017</td>\n",
              "      <td>3168</td>\n",
              "      <td>5837</td>\n",
              "      <td>16.7</td>\n",
              "    </tr>\n",
              "    <tr>\n",
              "      <th>277</th>\n",
              "      <td>7</td>\n",
              "      <td>1716000.0</td>\n",
              "      <td>2017</td>\n",
              "      <td>3150</td>\n",
              "      <td>15321</td>\n",
              "      <td>16.7</td>\n",
              "    </tr>\n",
              "    <tr>\n",
              "      <th>454</th>\n",
              "      <td>6</td>\n",
              "      <td>1815000.0</td>\n",
              "      <td>2017</td>\n",
              "      <td>3051</td>\n",
              "      <td>6821</td>\n",
              "      <td>1.8</td>\n",
              "    </tr>\n",
              "    <tr>\n",
              "      <th>669</th>\n",
              "      <td>6</td>\n",
              "      <td>1550000.0</td>\n",
              "      <td>2017</td>\n",
              "      <td>3013</td>\n",
              "      <td>6543</td>\n",
              "      <td>6.3</td>\n",
              "    </tr>\n",
              "    <tr>\n",
              "      <th>707</th>\n",
              "      <td>6</td>\n",
              "      <td>2000000.0</td>\n",
              "      <td>2017</td>\n",
              "      <td>3193</td>\n",
              "      <td>5366</td>\n",
              "      <td>17.3</td>\n",
              "    </tr>\n",
              "    <tr>\n",
              "      <th>...</th>\n",
              "      <td>...</td>\n",
              "      <td>...</td>\n",
              "      <td>...</td>\n",
              "      <td>...</td>\n",
              "      <td>...</td>\n",
              "      <td>...</td>\n",
              "    </tr>\n",
              "    <tr>\n",
              "      <th>62563</th>\n",
              "      <td>6</td>\n",
              "      <td>1515000.0</td>\n",
              "      <td>2017</td>\n",
              "      <td>3059</td>\n",
              "      <td>4864</td>\n",
              "      <td>20.4</td>\n",
              "    </tr>\n",
              "    <tr>\n",
              "      <th>62596</th>\n",
              "      <td>6</td>\n",
              "      <td>830000.0</td>\n",
              "      <td>2017</td>\n",
              "      <td>3037</td>\n",
              "      <td>5556</td>\n",
              "      <td>18.0</td>\n",
              "    </tr>\n",
              "    <tr>\n",
              "      <th>62621</th>\n",
              "      <td>6</td>\n",
              "      <td>1130000.0</td>\n",
              "      <td>2017</td>\n",
              "      <td>3033</td>\n",
              "      <td>5629</td>\n",
              "      <td>11.7</td>\n",
              "    </tr>\n",
              "    <tr>\n",
              "      <th>62696</th>\n",
              "      <td>6</td>\n",
              "      <td>1650000.0</td>\n",
              "      <td>2017</td>\n",
              "      <td>3194</td>\n",
              "      <td>6162</td>\n",
              "      <td>20.0</td>\n",
              "    </tr>\n",
              "    <tr>\n",
              "      <th>62926</th>\n",
              "      <td>6</td>\n",
              "      <td>700000.0</td>\n",
              "      <td>2017</td>\n",
              "      <td>3037</td>\n",
              "      <td>3640</td>\n",
              "      <td>18.0</td>\n",
              "    </tr>\n",
              "  </tbody>\n",
              "</table>\n",
              "<p>351 rows × 6 columns</p>\n",
              "</div>"
            ],
            "text/plain": [
              "       Rooms      Price  Date  Postcode  Propertycount  Distance\n",
              "150        7  4000000.0  2017      3168           5837      16.7\n",
              "277        7  1716000.0  2017      3150          15321      16.7\n",
              "454        6  1815000.0  2017      3051           6821       1.8\n",
              "669        6  1550000.0  2017      3013           6543       6.3\n",
              "707        6  2000000.0  2017      3193           5366      17.3\n",
              "...      ...        ...   ...       ...            ...       ...\n",
              "62563      6  1515000.0  2017      3059           4864      20.4\n",
              "62596      6   830000.0  2017      3037           5556      18.0\n",
              "62621      6  1130000.0  2017      3033           5629      11.7\n",
              "62696      6  1650000.0  2017      3194           6162      20.0\n",
              "62926      6   700000.0  2017      3037           3640      18.0\n",
              "\n",
              "[351 rows x 6 columns]"
            ]
          },
          "metadata": {
            "tags": []
          },
          "execution_count": 48
        }
      ]
    },
    {
      "cell_type": "code",
      "metadata": {
        "colab": {
          "base_uri": "https://localhost:8080/",
          "height": 49
        },
        "id": "XM5NO7kY1VlZ",
        "outputId": "52b75ff5-c154-4e95-d114-eb2eb667e4ee"
      },
      "source": [
        "#Value less than MIn Percentile\n",
        "outlier[outlier[\"Rooms\"]<min]"
      ],
      "execution_count": 49,
      "outputs": [
        {
          "output_type": "execute_result",
          "data": {
            "text/html": [
              "<div>\n",
              "<style scoped>\n",
              "    .dataframe tbody tr th:only-of-type {\n",
              "        vertical-align: middle;\n",
              "    }\n",
              "\n",
              "    .dataframe tbody tr th {\n",
              "        vertical-align: top;\n",
              "    }\n",
              "\n",
              "    .dataframe thead th {\n",
              "        text-align: right;\n",
              "    }\n",
              "</style>\n",
              "<table border=\"1\" class=\"dataframe\">\n",
              "  <thead>\n",
              "    <tr style=\"text-align: right;\">\n",
              "      <th></th>\n",
              "      <th>Rooms</th>\n",
              "      <th>Price</th>\n",
              "      <th>Date</th>\n",
              "      <th>Postcode</th>\n",
              "      <th>Propertycount</th>\n",
              "      <th>Distance</th>\n",
              "    </tr>\n",
              "  </thead>\n",
              "  <tbody>\n",
              "  </tbody>\n",
              "</table>\n",
              "</div>"
            ],
            "text/plain": [
              "Empty DataFrame\n",
              "Columns: [Rooms, Price, Date, Postcode, Propertycount, Distance]\n",
              "Index: []"
            ]
          },
          "metadata": {
            "tags": []
          },
          "execution_count": 49
        }
      ]
    },
    {
      "cell_type": "code",
      "metadata": {
        "id": "HnzhYIfl3wJ5"
      },
      "source": [
        "#Only Selecting valid values\n",
        "data=data[(data[\"Rooms\"]<max) & (data[\"Rooms\"]>min)]"
      ],
      "execution_count": 50,
      "outputs": []
    },
    {
      "cell_type": "code",
      "metadata": {
        "colab": {
          "base_uri": "https://localhost:8080/",
          "height": 297
        },
        "id": "5BN8EPKp37Kt",
        "outputId": "01c5cfe8-7424-4135-813c-3fe3db917f67"
      },
      "source": [
        "data.describe()"
      ],
      "execution_count": 51,
      "outputs": [
        {
          "output_type": "execute_result",
          "data": {
            "text/html": [
              "<div>\n",
              "<style scoped>\n",
              "    .dataframe tbody tr th:only-of-type {\n",
              "        vertical-align: middle;\n",
              "    }\n",
              "\n",
              "    .dataframe tbody tr th {\n",
              "        vertical-align: top;\n",
              "    }\n",
              "\n",
              "    .dataframe thead th {\n",
              "        text-align: right;\n",
              "    }\n",
              "</style>\n",
              "<table border=\"1\" class=\"dataframe\">\n",
              "  <thead>\n",
              "    <tr style=\"text-align: right;\">\n",
              "      <th></th>\n",
              "      <th>Rooms</th>\n",
              "      <th>Price</th>\n",
              "      <th>Date</th>\n",
              "      <th>Postcode</th>\n",
              "      <th>Propertycount</th>\n",
              "      <th>Distance</th>\n",
              "    </tr>\n",
              "  </thead>\n",
              "  <tbody>\n",
              "    <tr>\n",
              "      <th>count</th>\n",
              "      <td>44061.000000</td>\n",
              "      <td>4.406100e+04</td>\n",
              "      <td>44061.000000</td>\n",
              "      <td>44061.000000</td>\n",
              "      <td>44061.000000</td>\n",
              "      <td>44061.000000</td>\n",
              "    </tr>\n",
              "    <tr>\n",
              "      <th>mean</th>\n",
              "      <td>3.020494</td>\n",
              "      <td>9.801504e+05</td>\n",
              "      <td>2017.044438</td>\n",
              "      <td>3122.984090</td>\n",
              "      <td>7523.727060</td>\n",
              "      <td>12.847677</td>\n",
              "    </tr>\n",
              "    <tr>\n",
              "      <th>std</th>\n",
              "      <td>0.710317</td>\n",
              "      <td>5.381352e+05</td>\n",
              "      <td>0.761431</td>\n",
              "      <td>126.766155</td>\n",
              "      <td>4463.408306</td>\n",
              "      <td>7.545713</td>\n",
              "    </tr>\n",
              "    <tr>\n",
              "      <th>min</th>\n",
              "      <td>2.000000</td>\n",
              "      <td>1.310000e+05</td>\n",
              "      <td>2016.000000</td>\n",
              "      <td>3000.000000</td>\n",
              "      <td>39.000000</td>\n",
              "      <td>0.000000</td>\n",
              "    </tr>\n",
              "    <tr>\n",
              "      <th>25%</th>\n",
              "      <td>3.000000</td>\n",
              "      <td>6.295000e+05</td>\n",
              "      <td>2016.000000</td>\n",
              "      <td>3049.000000</td>\n",
              "      <td>4217.000000</td>\n",
              "      <td>7.200000</td>\n",
              "    </tr>\n",
              "    <tr>\n",
              "      <th>50%</th>\n",
              "      <td>3.000000</td>\n",
              "      <td>8.300000e+05</td>\n",
              "      <td>2017.000000</td>\n",
              "      <td>3101.000000</td>\n",
              "      <td>6567.000000</td>\n",
              "      <td>12.000000</td>\n",
              "    </tr>\n",
              "    <tr>\n",
              "      <th>75%</th>\n",
              "      <td>4.000000</td>\n",
              "      <td>1.200000e+06</td>\n",
              "      <td>2018.000000</td>\n",
              "      <td>3165.000000</td>\n",
              "      <td>10331.000000</td>\n",
              "      <td>16.700000</td>\n",
              "    </tr>\n",
              "    <tr>\n",
              "      <th>max</th>\n",
              "      <td>4.000000</td>\n",
              "      <td>1.120000e+07</td>\n",
              "      <td>2018.000000</td>\n",
              "      <td>3980.000000</td>\n",
              "      <td>21650.000000</td>\n",
              "      <td>55.800000</td>\n",
              "    </tr>\n",
              "  </tbody>\n",
              "</table>\n",
              "</div>"
            ],
            "text/plain": [
              "              Rooms         Price  ...  Propertycount      Distance\n",
              "count  44061.000000  4.406100e+04  ...   44061.000000  44061.000000\n",
              "mean       3.020494  9.801504e+05  ...    7523.727060     12.847677\n",
              "std        0.710317  5.381352e+05  ...    4463.408306      7.545713\n",
              "min        2.000000  1.310000e+05  ...      39.000000      0.000000\n",
              "25%        3.000000  6.295000e+05  ...    4217.000000      7.200000\n",
              "50%        3.000000  8.300000e+05  ...    6567.000000     12.000000\n",
              "75%        4.000000  1.200000e+06  ...   10331.000000     16.700000\n",
              "max        4.000000  1.120000e+07  ...   21650.000000     55.800000\n",
              "\n",
              "[8 rows x 6 columns]"
            ]
          },
          "metadata": {
            "tags": []
          },
          "execution_count": 51
        }
      ]
    },
    {
      "cell_type": "markdown",
      "metadata": {
        "id": "GNNHhBNhJ-_s"
      },
      "source": [
        "#  Data Preparation Feature Engineering:"
      ]
    },
    {
      "cell_type": "markdown",
      "metadata": {
        "id": "6aa0cwNlKGNq"
      },
      "source": [
        "Feature Transformation:"
      ]
    },
    {
      "cell_type": "code",
      "metadata": {
        "id": "VZp-muLokkUU"
      },
      "source": [
        "#dropping Postcode \n",
        "data.drop([\"Postcode\"],axis=1,inplace=True)"
      ],
      "execution_count": 52,
      "outputs": []
    },
    {
      "cell_type": "code",
      "metadata": {
        "id": "Cwu3NhEuYgmO"
      },
      "source": [
        "#dropping Address\n",
        "data.drop([\"Address\"],axis=1,inplace=True)"
      ],
      "execution_count": 53,
      "outputs": []
    },
    {
      "cell_type": "code",
      "metadata": {
        "id": "uU_nJVyTinyX"
      },
      "source": [
        "#Dropping Date column as it is not hepling in right prediction\n",
        "data.drop([\"Date\"],axis=1,inplace=True)"
      ],
      "execution_count": 54,
      "outputs": []
    },
    {
      "cell_type": "markdown",
      "metadata": {
        "id": "8LTlgrRQlyDM"
      },
      "source": [
        "Standardization:"
      ]
    },
    {
      "cell_type": "code",
      "metadata": {
        "colab": {
          "base_uri": "https://localhost:8080/",
          "height": 589
        },
        "id": "XIA7vhovl1Ds",
        "outputId": "e3d6605a-18cb-48d2-e8b9-338f206bfd52"
      },
      "source": [
        "#Using standardScaler for Standardlization  \n",
        "from sklearn.preprocessing import StandardScaler\n",
        "sc=StandardScaler()\n",
        "data[[\"Rooms\",\"Price\",\"Propertycount\",\"Distance\"]]=sc.fit_transform(data[[\"Rooms\",\"Price\",\"Propertycount\",\"Distance\"]])\n",
        "data"
      ],
      "execution_count": 55,
      "outputs": [
        {
          "output_type": "execute_result",
          "data": {
            "text/html": [
              "<div>\n",
              "<style scoped>\n",
              "    .dataframe tbody tr th:only-of-type {\n",
              "        vertical-align: middle;\n",
              "    }\n",
              "\n",
              "    .dataframe tbody tr th {\n",
              "        vertical-align: top;\n",
              "    }\n",
              "\n",
              "    .dataframe thead th {\n",
              "        text-align: right;\n",
              "    }\n",
              "</style>\n",
              "<table border=\"1\" class=\"dataframe\">\n",
              "  <thead>\n",
              "    <tr style=\"text-align: right;\">\n",
              "      <th></th>\n",
              "      <th>Suburb</th>\n",
              "      <th>Rooms</th>\n",
              "      <th>Type</th>\n",
              "      <th>Price</th>\n",
              "      <th>Method</th>\n",
              "      <th>SellerG</th>\n",
              "      <th>Regionname</th>\n",
              "      <th>Propertycount</th>\n",
              "      <th>Distance</th>\n",
              "      <th>CouncilArea</th>\n",
              "    </tr>\n",
              "  </thead>\n",
              "  <tbody>\n",
              "    <tr>\n",
              "      <th>0</th>\n",
              "      <td>Abbotsford</td>\n",
              "      <td>-0.028853</td>\n",
              "      <td>h</td>\n",
              "      <td>0.947449</td>\n",
              "      <td>S</td>\n",
              "      <td>Jellis</td>\n",
              "      <td>Northern Metropolitan</td>\n",
              "      <td>-0.785222</td>\n",
              "      <td>-1.305084</td>\n",
              "      <td>Yarra City Council</td>\n",
              "    </tr>\n",
              "    <tr>\n",
              "      <th>1</th>\n",
              "      <td>Abbotsford</td>\n",
              "      <td>-0.028853</td>\n",
              "      <td>h</td>\n",
              "      <td>0.445710</td>\n",
              "      <td>S</td>\n",
              "      <td>Marshall</td>\n",
              "      <td>Northern Metropolitan</td>\n",
              "      <td>-0.785222</td>\n",
              "      <td>-1.305084</td>\n",
              "      <td>Yarra City Council</td>\n",
              "    </tr>\n",
              "    <tr>\n",
              "      <th>2</th>\n",
              "      <td>Abbotsford</td>\n",
              "      <td>-0.028853</td>\n",
              "      <td>h</td>\n",
              "      <td>0.817368</td>\n",
              "      <td>S</td>\n",
              "      <td>Nelson</td>\n",
              "      <td>Northern Metropolitan</td>\n",
              "      <td>-0.785222</td>\n",
              "      <td>-1.305084</td>\n",
              "      <td>Yarra City Council</td>\n",
              "    </tr>\n",
              "    <tr>\n",
              "      <th>3</th>\n",
              "      <td>Aberfeldie</td>\n",
              "      <td>-0.028853</td>\n",
              "      <td>h</td>\n",
              "      <td>0.993906</td>\n",
              "      <td>S</td>\n",
              "      <td>Barry</td>\n",
              "      <td>Western Metropolitan</td>\n",
              "      <td>-1.339961</td>\n",
              "      <td>-0.708712</td>\n",
              "      <td>Moonee Valley City Council</td>\n",
              "    </tr>\n",
              "    <tr>\n",
              "      <th>4</th>\n",
              "      <td>Airport West</td>\n",
              "      <td>-1.436690</td>\n",
              "      <td>h</td>\n",
              "      <td>-0.576349</td>\n",
              "      <td>S</td>\n",
              "      <td>Nelson</td>\n",
              "      <td>Western Metropolitan</td>\n",
              "      <td>-0.909568</td>\n",
              "      <td>-0.324383</td>\n",
              "      <td>Moonee Valley City Council</td>\n",
              "    </tr>\n",
              "    <tr>\n",
              "      <th>...</th>\n",
              "      <td>...</td>\n",
              "      <td>...</td>\n",
              "      <td>...</td>\n",
              "      <td>...</td>\n",
              "      <td>...</td>\n",
              "      <td>...</td>\n",
              "      <td>...</td>\n",
              "      <td>...</td>\n",
              "      <td>...</td>\n",
              "      <td>...</td>\n",
              "    </tr>\n",
              "    <tr>\n",
              "      <th>63016</th>\n",
              "      <td>Frankston</td>\n",
              "      <td>-1.436690</td>\n",
              "      <td>u</td>\n",
              "      <td>-1.175276</td>\n",
              "      <td>SP</td>\n",
              "      <td>Aquire</td>\n",
              "      <td>South-Eastern Metropolitan</td>\n",
              "      <td>2.135449</td>\n",
              "      <td>3.333364</td>\n",
              "      <td>Frankston City Council</td>\n",
              "    </tr>\n",
              "    <tr>\n",
              "      <th>63017</th>\n",
              "      <td>Preston</td>\n",
              "      <td>-0.028853</td>\n",
              "      <td>h</td>\n",
              "      <td>-0.319905</td>\n",
              "      <td>S</td>\n",
              "      <td>RW</td>\n",
              "      <td>Northern Metropolitan</td>\n",
              "      <td>1.580262</td>\n",
              "      <td>-0.589438</td>\n",
              "      <td>Darebin City Council</td>\n",
              "    </tr>\n",
              "    <tr>\n",
              "      <th>63018</th>\n",
              "      <td>Roxburgh Park</td>\n",
              "      <td>-0.028853</td>\n",
              "      <td>h</td>\n",
              "      <td>-0.769612</td>\n",
              "      <td>S</td>\n",
              "      <td>Raine</td>\n",
              "      <td>Northern Metropolitan</td>\n",
              "      <td>-0.378802</td>\n",
              "      <td>1.027393</td>\n",
              "      <td>Hume City Council</td>\n",
              "    </tr>\n",
              "    <tr>\n",
              "      <th>63019</th>\n",
              "      <td>Roxburgh Park</td>\n",
              "      <td>-0.028853</td>\n",
              "      <td>h</td>\n",
              "      <td>-0.892259</td>\n",
              "      <td>S</td>\n",
              "      <td>Raine</td>\n",
              "      <td>Northern Metropolitan</td>\n",
              "      <td>-0.378802</td>\n",
              "      <td>1.027393</td>\n",
              "      <td>Hume City Council</td>\n",
              "    </tr>\n",
              "    <tr>\n",
              "      <th>63020</th>\n",
              "      <td>Roxburgh Park</td>\n",
              "      <td>-0.028853</td>\n",
              "      <td>h</td>\n",
              "      <td>-0.808636</td>\n",
              "      <td>S</td>\n",
              "      <td>Raine</td>\n",
              "      <td>Northern Metropolitan</td>\n",
              "      <td>-0.378802</td>\n",
              "      <td>1.027393</td>\n",
              "      <td>Hume City Council</td>\n",
              "    </tr>\n",
              "  </tbody>\n",
              "</table>\n",
              "<p>44061 rows × 10 columns</p>\n",
              "</div>"
            ],
            "text/plain": [
              "              Suburb     Rooms  ...  Distance                 CouncilArea\n",
              "0         Abbotsford -0.028853  ... -1.305084          Yarra City Council\n",
              "1         Abbotsford -0.028853  ... -1.305084          Yarra City Council\n",
              "2         Abbotsford -0.028853  ... -1.305084          Yarra City Council\n",
              "3         Aberfeldie -0.028853  ... -0.708712  Moonee Valley City Council\n",
              "4       Airport West -1.436690  ... -0.324383  Moonee Valley City Council\n",
              "...              ...       ...  ...       ...                         ...\n",
              "63016      Frankston -1.436690  ...  3.333364      Frankston City Council\n",
              "63017        Preston -0.028853  ... -0.589438        Darebin City Council\n",
              "63018  Roxburgh Park -0.028853  ...  1.027393           Hume City Council\n",
              "63019  Roxburgh Park -0.028853  ...  1.027393           Hume City Council\n",
              "63020  Roxburgh Park -0.028853  ...  1.027393           Hume City Council\n",
              "\n",
              "[44061 rows x 10 columns]"
            ]
          },
          "metadata": {
            "tags": []
          },
          "execution_count": 55
        }
      ]
    },
    {
      "cell_type": "markdown",
      "metadata": {
        "id": "pLTol-eoLjDa"
      },
      "source": [
        "Dummy encoding :"
      ]
    },
    {
      "cell_type": "code",
      "metadata": {
        "colab": {
          "base_uri": "https://localhost:8080/",
          "height": 419
        },
        "id": "s9TzWQnNLmQ1",
        "outputId": "3e4addfd-d452-4412-bef8-6921b82467a1"
      },
      "source": [
        "#Selecting \"object\" Datatype attributes \n",
        "data.select_dtypes(include=\"object\")"
      ],
      "execution_count": 56,
      "outputs": [
        {
          "output_type": "execute_result",
          "data": {
            "text/html": [
              "<div>\n",
              "<style scoped>\n",
              "    .dataframe tbody tr th:only-of-type {\n",
              "        vertical-align: middle;\n",
              "    }\n",
              "\n",
              "    .dataframe tbody tr th {\n",
              "        vertical-align: top;\n",
              "    }\n",
              "\n",
              "    .dataframe thead th {\n",
              "        text-align: right;\n",
              "    }\n",
              "</style>\n",
              "<table border=\"1\" class=\"dataframe\">\n",
              "  <thead>\n",
              "    <tr style=\"text-align: right;\">\n",
              "      <th></th>\n",
              "      <th>Suburb</th>\n",
              "      <th>Type</th>\n",
              "      <th>Method</th>\n",
              "      <th>SellerG</th>\n",
              "      <th>Regionname</th>\n",
              "      <th>CouncilArea</th>\n",
              "    </tr>\n",
              "  </thead>\n",
              "  <tbody>\n",
              "    <tr>\n",
              "      <th>0</th>\n",
              "      <td>Abbotsford</td>\n",
              "      <td>h</td>\n",
              "      <td>S</td>\n",
              "      <td>Jellis</td>\n",
              "      <td>Northern Metropolitan</td>\n",
              "      <td>Yarra City Council</td>\n",
              "    </tr>\n",
              "    <tr>\n",
              "      <th>1</th>\n",
              "      <td>Abbotsford</td>\n",
              "      <td>h</td>\n",
              "      <td>S</td>\n",
              "      <td>Marshall</td>\n",
              "      <td>Northern Metropolitan</td>\n",
              "      <td>Yarra City Council</td>\n",
              "    </tr>\n",
              "    <tr>\n",
              "      <th>2</th>\n",
              "      <td>Abbotsford</td>\n",
              "      <td>h</td>\n",
              "      <td>S</td>\n",
              "      <td>Nelson</td>\n",
              "      <td>Northern Metropolitan</td>\n",
              "      <td>Yarra City Council</td>\n",
              "    </tr>\n",
              "    <tr>\n",
              "      <th>3</th>\n",
              "      <td>Aberfeldie</td>\n",
              "      <td>h</td>\n",
              "      <td>S</td>\n",
              "      <td>Barry</td>\n",
              "      <td>Western Metropolitan</td>\n",
              "      <td>Moonee Valley City Council</td>\n",
              "    </tr>\n",
              "    <tr>\n",
              "      <th>4</th>\n",
              "      <td>Airport West</td>\n",
              "      <td>h</td>\n",
              "      <td>S</td>\n",
              "      <td>Nelson</td>\n",
              "      <td>Western Metropolitan</td>\n",
              "      <td>Moonee Valley City Council</td>\n",
              "    </tr>\n",
              "    <tr>\n",
              "      <th>...</th>\n",
              "      <td>...</td>\n",
              "      <td>...</td>\n",
              "      <td>...</td>\n",
              "      <td>...</td>\n",
              "      <td>...</td>\n",
              "      <td>...</td>\n",
              "    </tr>\n",
              "    <tr>\n",
              "      <th>63016</th>\n",
              "      <td>Frankston</td>\n",
              "      <td>u</td>\n",
              "      <td>SP</td>\n",
              "      <td>Aquire</td>\n",
              "      <td>South-Eastern Metropolitan</td>\n",
              "      <td>Frankston City Council</td>\n",
              "    </tr>\n",
              "    <tr>\n",
              "      <th>63017</th>\n",
              "      <td>Preston</td>\n",
              "      <td>h</td>\n",
              "      <td>S</td>\n",
              "      <td>RW</td>\n",
              "      <td>Northern Metropolitan</td>\n",
              "      <td>Darebin City Council</td>\n",
              "    </tr>\n",
              "    <tr>\n",
              "      <th>63018</th>\n",
              "      <td>Roxburgh Park</td>\n",
              "      <td>h</td>\n",
              "      <td>S</td>\n",
              "      <td>Raine</td>\n",
              "      <td>Northern Metropolitan</td>\n",
              "      <td>Hume City Council</td>\n",
              "    </tr>\n",
              "    <tr>\n",
              "      <th>63019</th>\n",
              "      <td>Roxburgh Park</td>\n",
              "      <td>h</td>\n",
              "      <td>S</td>\n",
              "      <td>Raine</td>\n",
              "      <td>Northern Metropolitan</td>\n",
              "      <td>Hume City Council</td>\n",
              "    </tr>\n",
              "    <tr>\n",
              "      <th>63020</th>\n",
              "      <td>Roxburgh Park</td>\n",
              "      <td>h</td>\n",
              "      <td>S</td>\n",
              "      <td>Raine</td>\n",
              "      <td>Northern Metropolitan</td>\n",
              "      <td>Hume City Council</td>\n",
              "    </tr>\n",
              "  </tbody>\n",
              "</table>\n",
              "<p>44061 rows × 6 columns</p>\n",
              "</div>"
            ],
            "text/plain": [
              "              Suburb  ...                 CouncilArea\n",
              "0         Abbotsford  ...          Yarra City Council\n",
              "1         Abbotsford  ...          Yarra City Council\n",
              "2         Abbotsford  ...          Yarra City Council\n",
              "3         Aberfeldie  ...  Moonee Valley City Council\n",
              "4       Airport West  ...  Moonee Valley City Council\n",
              "...              ...  ...                         ...\n",
              "63016      Frankston  ...      Frankston City Council\n",
              "63017        Preston  ...        Darebin City Council\n",
              "63018  Roxburgh Park  ...           Hume City Council\n",
              "63019  Roxburgh Park  ...           Hume City Council\n",
              "63020  Roxburgh Park  ...           Hume City Council\n",
              "\n",
              "[44061 rows x 6 columns]"
            ]
          },
          "metadata": {
            "tags": []
          },
          "execution_count": 56
        }
      ]
    },
    {
      "cell_type": "code",
      "metadata": {
        "colab": {
          "base_uri": "https://localhost:8080/",
          "height": 419
        },
        "id": "QIRJmCR4L5xB",
        "outputId": "0795b251-1982-48f5-f1be-65881cfa0eb6"
      },
      "source": [
        "#Applying LabelEncoding to categorical columns\n",
        "from sklearn.preprocessing import LabelEncoder\n",
        "label_object={}\n",
        "x=[\"Suburb\",\"Type\",\"Method\",\"SellerG\",\"Regionname\",\"CouncilArea\"]\n",
        "for i in x:\n",
        "  le=LabelEncoder()\n",
        "  le.fit(data[i])\n",
        "  data[i]=le.fit_transform(data[i])\n",
        "  label_object=le\n",
        "data\n"
      ],
      "execution_count": 57,
      "outputs": [
        {
          "output_type": "execute_result",
          "data": {
            "text/html": [
              "<div>\n",
              "<style scoped>\n",
              "    .dataframe tbody tr th:only-of-type {\n",
              "        vertical-align: middle;\n",
              "    }\n",
              "\n",
              "    .dataframe tbody tr th {\n",
              "        vertical-align: top;\n",
              "    }\n",
              "\n",
              "    .dataframe thead th {\n",
              "        text-align: right;\n",
              "    }\n",
              "</style>\n",
              "<table border=\"1\" class=\"dataframe\">\n",
              "  <thead>\n",
              "    <tr style=\"text-align: right;\">\n",
              "      <th></th>\n",
              "      <th>Suburb</th>\n",
              "      <th>Rooms</th>\n",
              "      <th>Type</th>\n",
              "      <th>Price</th>\n",
              "      <th>Method</th>\n",
              "      <th>SellerG</th>\n",
              "      <th>Regionname</th>\n",
              "      <th>Propertycount</th>\n",
              "      <th>Distance</th>\n",
              "      <th>CouncilArea</th>\n",
              "    </tr>\n",
              "  </thead>\n",
              "  <tbody>\n",
              "    <tr>\n",
              "      <th>0</th>\n",
              "      <td>0</td>\n",
              "      <td>-0.028853</td>\n",
              "      <td>0</td>\n",
              "      <td>0.947449</td>\n",
              "      <td>1</td>\n",
              "      <td>176</td>\n",
              "      <td>2</td>\n",
              "      <td>-0.785222</td>\n",
              "      <td>-1.305084</td>\n",
              "      <td>32</td>\n",
              "    </tr>\n",
              "    <tr>\n",
              "      <th>1</th>\n",
              "      <td>0</td>\n",
              "      <td>-0.028853</td>\n",
              "      <td>0</td>\n",
              "      <td>0.445710</td>\n",
              "      <td>1</td>\n",
              "      <td>220</td>\n",
              "      <td>2</td>\n",
              "      <td>-0.785222</td>\n",
              "      <td>-1.305084</td>\n",
              "      <td>32</td>\n",
              "    </tr>\n",
              "    <tr>\n",
              "      <th>2</th>\n",
              "      <td>0</td>\n",
              "      <td>-0.028853</td>\n",
              "      <td>0</td>\n",
              "      <td>0.817368</td>\n",
              "      <td>1</td>\n",
              "      <td>248</td>\n",
              "      <td>2</td>\n",
              "      <td>-0.785222</td>\n",
              "      <td>-1.305084</td>\n",
              "      <td>32</td>\n",
              "    </tr>\n",
              "    <tr>\n",
              "      <th>3</th>\n",
              "      <td>1</td>\n",
              "      <td>-0.028853</td>\n",
              "      <td>0</td>\n",
              "      <td>0.993906</td>\n",
              "      <td>1</td>\n",
              "      <td>27</td>\n",
              "      <td>6</td>\n",
              "      <td>-1.339961</td>\n",
              "      <td>-0.708712</td>\n",
              "      <td>22</td>\n",
              "    </tr>\n",
              "    <tr>\n",
              "      <th>4</th>\n",
              "      <td>2</td>\n",
              "      <td>-1.436690</td>\n",
              "      <td>0</td>\n",
              "      <td>-0.576349</td>\n",
              "      <td>1</td>\n",
              "      <td>248</td>\n",
              "      <td>6</td>\n",
              "      <td>-0.909568</td>\n",
              "      <td>-0.324383</td>\n",
              "      <td>22</td>\n",
              "    </tr>\n",
              "    <tr>\n",
              "      <th>...</th>\n",
              "      <td>...</td>\n",
              "      <td>...</td>\n",
              "      <td>...</td>\n",
              "      <td>...</td>\n",
              "      <td>...</td>\n",
              "      <td>...</td>\n",
              "      <td>...</td>\n",
              "      <td>...</td>\n",
              "      <td>...</td>\n",
              "      <td>...</td>\n",
              "    </tr>\n",
              "    <tr>\n",
              "      <th>63016</th>\n",
              "      <td>146</td>\n",
              "      <td>-1.436690</td>\n",
              "      <td>2</td>\n",
              "      <td>-1.175276</td>\n",
              "      <td>3</td>\n",
              "      <td>13</td>\n",
              "      <td>4</td>\n",
              "      <td>2.135449</td>\n",
              "      <td>3.333364</td>\n",
              "      <td>7</td>\n",
              "    </tr>\n",
              "    <tr>\n",
              "      <th>63017</th>\n",
              "      <td>273</td>\n",
              "      <td>-0.028853</td>\n",
              "      <td>0</td>\n",
              "      <td>-0.319905</td>\n",
              "      <td>1</td>\n",
              "      <td>298</td>\n",
              "      <td>2</td>\n",
              "      <td>1.580262</td>\n",
              "      <td>-0.589438</td>\n",
              "      <td>6</td>\n",
              "    </tr>\n",
              "    <tr>\n",
              "      <th>63018</th>\n",
              "      <td>286</td>\n",
              "      <td>-0.028853</td>\n",
              "      <td>0</td>\n",
              "      <td>-0.769612</td>\n",
              "      <td>1</td>\n",
              "      <td>299</td>\n",
              "      <td>2</td>\n",
              "      <td>-0.378802</td>\n",
              "      <td>1.027393</td>\n",
              "      <td>11</td>\n",
              "    </tr>\n",
              "    <tr>\n",
              "      <th>63019</th>\n",
              "      <td>286</td>\n",
              "      <td>-0.028853</td>\n",
              "      <td>0</td>\n",
              "      <td>-0.892259</td>\n",
              "      <td>1</td>\n",
              "      <td>299</td>\n",
              "      <td>2</td>\n",
              "      <td>-0.378802</td>\n",
              "      <td>1.027393</td>\n",
              "      <td>11</td>\n",
              "    </tr>\n",
              "    <tr>\n",
              "      <th>63020</th>\n",
              "      <td>286</td>\n",
              "      <td>-0.028853</td>\n",
              "      <td>0</td>\n",
              "      <td>-0.808636</td>\n",
              "      <td>1</td>\n",
              "      <td>299</td>\n",
              "      <td>2</td>\n",
              "      <td>-0.378802</td>\n",
              "      <td>1.027393</td>\n",
              "      <td>11</td>\n",
              "    </tr>\n",
              "  </tbody>\n",
              "</table>\n",
              "<p>44061 rows × 10 columns</p>\n",
              "</div>"
            ],
            "text/plain": [
              "       Suburb     Rooms  Type  ...  Propertycount  Distance  CouncilArea\n",
              "0           0 -0.028853     0  ...      -0.785222 -1.305084           32\n",
              "1           0 -0.028853     0  ...      -0.785222 -1.305084           32\n",
              "2           0 -0.028853     0  ...      -0.785222 -1.305084           32\n",
              "3           1 -0.028853     0  ...      -1.339961 -0.708712           22\n",
              "4           2 -1.436690     0  ...      -0.909568 -0.324383           22\n",
              "...       ...       ...   ...  ...            ...       ...          ...\n",
              "63016     146 -1.436690     2  ...       2.135449  3.333364            7\n",
              "63017     273 -0.028853     0  ...       1.580262 -0.589438            6\n",
              "63018     286 -0.028853     0  ...      -0.378802  1.027393           11\n",
              "63019     286 -0.028853     0  ...      -0.378802  1.027393           11\n",
              "63020     286 -0.028853     0  ...      -0.378802  1.027393           11\n",
              "\n",
              "[44061 rows x 10 columns]"
            ]
          },
          "metadata": {
            "tags": []
          },
          "execution_count": 57
        }
      ]
    },
    {
      "cell_type": "code",
      "metadata": {
        "id": "I54ZEzG2Wz3_"
      },
      "source": [
        "#Separting the Dependent and Independent variables\n",
        "Price=data[\"Price\"].values\n",
        "data.drop([\"Price\"],axis=1,inplace=True)"
      ],
      "execution_count": 58,
      "outputs": []
    },
    {
      "cell_type": "code",
      "metadata": {
        "id": "RLfBi1poWnLF"
      },
      "source": [
        "#Splitting Training and Testing Data\n",
        "from sklearn.model_selection import train_test_split\n",
        "x_train,x_test,y_train,y_test=train_test_split(data,Price,test_size=0.3,random_state=0)"
      ],
      "execution_count": 59,
      "outputs": []
    },
    {
      "cell_type": "code",
      "metadata": {
        "id": "aPSzS6naXhEk"
      },
      "source": [
        "#Using LinearRegression Model to predict the Price\n",
        "from sklearn.linear_model import LinearRegression\n",
        "Reg=LinearRegression()\n",
        "Reg.fit(x_train,y_train)\n",
        "pred=Reg.predict(x_test)\n"
      ],
      "execution_count": 60,
      "outputs": []
    },
    {
      "cell_type": "code",
      "metadata": {
        "colab": {
          "base_uri": "https://localhost:8080/"
        },
        "id": "TpTWA1tEYJMu",
        "outputId": "4cf68b3e-e4c9-491a-dd48-bf6282d7b161"
      },
      "source": [
        "#Using r2_score to check prediction score\n",
        "from sklearn.metrics import confusion_matrix, r2_score\n",
        "print(r2_score(y_test,pred))\n"
      ],
      "execution_count": 61,
      "outputs": [
        {
          "output_type": "stream",
          "text": [
            "0.32279422835505933\n"
          ],
          "name": "stdout"
        }
      ]
    }
  ]
}